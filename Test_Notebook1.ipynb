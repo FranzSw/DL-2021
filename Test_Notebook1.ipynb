{
  "nbformat": 4,
  "nbformat_minor": 0,
  "metadata": {
    "colab": {
      "name": "Test-Notebook1.ipynb",
      "provenance": [],
      "authorship_tag": "ABX9TyPPc0GwlWibBjX+HHVeT9Fe",
      "include_colab_link": true
    },
    "kernelspec": {
      "name": "python3",
      "display_name": "Python 3"
    },
    "language_info": {
      "name": "python"
    },
    "accelerator": "GPU"
  },
  "cells": [
    {
      "cell_type": "markdown",
      "metadata": {
        "id": "view-in-github",
        "colab_type": "text"
      },
      "source": [
        "<a href=\"https://colab.research.google.com/github/FranzSw/DL-2021/blob/main/Test_Notebook1.ipynb\" target=\"_parent\"><img src=\"https://colab.research.google.com/assets/colab-badge.svg\" alt=\"Open In Colab\"/></a>"
      ]
    },
    {
      "cell_type": "code",
      "metadata": {
        "colab": {
          "base_uri": "https://localhost:8080/"
        },
        "id": "a4SGF1Ut5dAX",
        "outputId": "547cf59e-bdf4-4c53-dbed-26e17ddb032c"
      },
      "source": [
        "import numpy as np\n",
        "import time\n",
        "from keras.applications.vgg16 import VGG16\n",
        "from keras.applications.vgg16 import preprocess_input, decode_predictions\n",
        "from PIL import Image\n",
        "\n",
        "\n",
        "model = VGG16(weights='imagenet', include_top=True)\n",
        "\n",
        "# Let's inspect the layers\n",
        "layers = dict([(layer.name, layer.output) for layer in model.layers])\n",
        "for layer in layers:\n",
        "    print(layer)\n",
        "print(f'Number of params: {model.count_params()}')\n",
        "\n"
      ],
      "execution_count": 1,
      "outputs": [
        {
          "output_type": "stream",
          "text": [
            "Downloading data from https://storage.googleapis.com/tensorflow/keras-applications/vgg16/vgg16_weights_tf_dim_ordering_tf_kernels.h5\n",
            "553467904/553467096 [==============================] - 4s 0us/step\n",
            "553476096/553467096 [==============================] - 4s 0us/step\n",
            "input_1\n",
            "block1_conv1\n",
            "block1_conv2\n",
            "block1_pool\n",
            "block2_conv1\n",
            "block2_conv2\n",
            "block2_pool\n",
            "block3_conv1\n",
            "block3_conv2\n",
            "block3_conv3\n",
            "block3_pool\n",
            "block4_conv1\n",
            "block4_conv2\n",
            "block4_conv3\n",
            "block4_pool\n",
            "block5_conv1\n",
            "block5_conv2\n",
            "block5_conv3\n",
            "block5_pool\n",
            "flatten\n",
            "fc1\n",
            "fc2\n",
            "predictions\n",
            "Number of params: 138357544\n"
          ],
          "name": "stdout"
        }
      ]
    },
    {
      "cell_type": "code",
      "metadata": {
        "colab": {
          "base_uri": "https://localhost:8080/"
        },
        "id": "JxgripkF5oQS",
        "outputId": "8fb28368-9030-4992-9c7b-c93c5e702497"
      },
      "source": [
        "\n",
        "image_start = time.time()\n",
        "# Prepare Test image\n",
        "image_path = 'elephant.png'\n",
        "image = Image.open(image_path)\n",
        "image = image.resize((224, 224))\n",
        "# image.show(command='fim')\n",
        "\n",
        "prepare_start = time.time()\n",
        "x = np.asfarray(image, dtype='float32')\n",
        "x = np.expand_dims(x, axis=0)\n",
        "x = preprocess_input(x)\n",
        "\n",
        "prediction_start = time.time()\n",
        "preds = model.predict(x)\n",
        "\n",
        "decode_start = time.time()\n",
        "res = decode_predictions(preds)\n",
        "finish = time.time()\n",
        "print(res)\n",
        "print('-----------')\n",
        "print(f'Total prediction: {finish - image_start}')\n",
        "print('Steps:')\n",
        "print(f'Image load: {prepare_start - image_start}')\n",
        "print(f'Image prep: {prediction_start - prepare_start}')\n",
        "print(f'Prediction: {decode_start - prediction_start}')\n",
        "print(f'Decode: {finish - decode_start}')"
      ],
      "execution_count": 6,
      "outputs": [
        {
          "output_type": "stream",
          "text": [
            "[[('n02504458', 'African_elephant', 0.8480525), ('n01871265', 'tusker', 0.10270261), ('n02504013', 'Indian_elephant', 0.049056686), ('n02408429', 'water_buffalo', 4.234437e-05), ('n01704323', 'triceratops', 2.8158593e-05)]]\n",
            "-----------\n",
            "Total prediction: 0.059873104095458984\n",
            "Steps:\n",
            "Image load: 0.003957509994506836\n",
            "Image prep: 0.0009031295776367188\n",
            "Prediction: 0.05486106872558594\n",
            "Decode: 0.0001513957977294922\n"
          ],
          "name": "stdout"
        }
      ]
    }
  ]
}