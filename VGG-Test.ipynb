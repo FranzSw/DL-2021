{
    "cells": [
        {
            "cell_type": "code",
            "execution_count": 1,
            "source": [
                "# Necessary imports\n",
                "import numpy as np\n",
                "import time\n",
                "from keras.applications.vgg16 import VGG16\n",
                "from keras.applications.vgg16 import preprocess_input, decode_predictions\n",
                "from PIL import Image"
            ],
            "outputs": [],
            "metadata": {}
        },
        {
            "cell_type": "code",
            "execution_count": 2,
            "source": [
                "# Prepare model\n",
                "model = VGG16(weights='imagenet', include_top=True)\n",
                "\n",
                "# Inspect layers\n",
                "# layers = dict([(layer.name, layer.output) for layer in model.layers])\n",
                "# for layer in layers:\n",
                "#     print(layer)\n",
                "# print(f'Number of params: {model.count_params()}')"
            ],
            "outputs": [],
            "metadata": {}
        },
        {
            "cell_type": "code",
            "execution_count": 3,
            "source": [
                "# Load Test image\n",
                "image_path = 'data/images/elephant.png'\n",
                "image = Image.open(image_path)\n",
                "image = image.resize((224, 224))"
            ],
            "outputs": [],
            "metadata": {}
        },
        {
            "cell_type": "code",
            "execution_count": 4,
            "source": [
                "# Prepare image\n",
                "x = np.asfarray(image, dtype='float32')\n",
                "x = np.expand_dims(x, axis=0)\n",
                "x = preprocess_input(x)"
            ],
            "outputs": [],
            "metadata": {}
        },
        {
            "cell_type": "code",
            "execution_count": 5,
            "source": [
                "# Predict\n",
                "preds = model.predict(x)"
            ],
            "outputs": [],
            "metadata": {}
        },
        {
            "cell_type": "code",
            "execution_count": 6,
            "source": [
                "# Decode\n",
                "res = decode_predictions(preds)\n",
                "res"
            ],
            "outputs": [
                {
                    "output_type": "execute_result",
                    "data": {
                        "text/plain": [
                            "[[('n02504458', 'African_elephant', 0.84805685),\n",
                            "  ('n01871265', 'tusker', 0.10269923),\n",
                            "  ('n02504013', 'Indian_elephant', 0.049055994),\n",
                            "  ('n02408429', 'water_buffalo', 4.234366e-05),\n",
                            "  ('n01704323', 'triceratops', 2.8157963e-05)]]"
                        ]
                    },
                    "metadata": {},
                    "execution_count": 6
                }
            ],
            "metadata": {}
        }
    ],
    "metadata": {
        "orig_nbformat": 4,
        "language_info": {
            "name": "python"
        }
    },
    "nbformat": 4,
    "nbformat_minor": 2
}